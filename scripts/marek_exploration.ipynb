{
 "cells": [
  {
   "cell_type": "code",
   "execution_count": 1,
   "metadata": {},
   "outputs": [
    {
     "ename": "ModuleNotFoundError",
     "evalue": "No module named 'wordcloud'",
     "output_type": "error",
     "traceback": [
      "\u001b[0;31m---------------------------------------------------------------------------\u001b[0m",
      "\u001b[0;31mModuleNotFoundError\u001b[0m                       Traceback (most recent call last)",
      "\u001b[0;32m<ipython-input-1-93f411f79991>\u001b[0m in \u001b[0;36m<module>\u001b[0;34m\u001b[0m\n\u001b[1;32m      6\u001b[0m \u001b[0;32mfrom\u001b[0m \u001b[0mnltk\u001b[0m\u001b[0;34m.\u001b[0m\u001b[0mcorpus\u001b[0m \u001b[0;32mimport\u001b[0m \u001b[0mstopwords\u001b[0m\u001b[0;34m\u001b[0m\u001b[0;34m\u001b[0m\u001b[0m\n\u001b[1;32m      7\u001b[0m \u001b[0;32mimport\u001b[0m \u001b[0mre\u001b[0m\u001b[0;34m\u001b[0m\u001b[0;34m\u001b[0m\u001b[0m\n\u001b[0;32m----> 8\u001b[0;31m \u001b[0;32mfrom\u001b[0m \u001b[0mwordcloud\u001b[0m \u001b[0;32mimport\u001b[0m \u001b[0mWordCloud\u001b[0m\u001b[0;34m\u001b[0m\u001b[0;34m\u001b[0m\u001b[0m\n\u001b[0m",
      "\u001b[0;31mModuleNotFoundError\u001b[0m: No module named 'wordcloud'"
     ]
    }
   ],
   "source": [
    "import pandas as pd\n",
    "import numpy as np\n",
    "import matplotlib.pyplot as plt\n",
    "\n",
    "\n",
    "from nltk.corpus import stopwords\n",
    "import re\n",
    "# from wordcloud import WordCloud"
   ]
  },
  {
   "cell_type": "code",
   "execution_count": 3,
   "metadata": {},
   "outputs": [
    {
     "ename": "SyntaxError",
     "evalue": "invalid syntax (<ipython-input-3-cde86110a550>, line 1)",
     "output_type": "error",
     "traceback": [
      "\u001b[0;36m  File \u001b[0;32m\"<ipython-input-3-cde86110a550>\"\u001b[0;36m, line \u001b[0;32m1\u001b[0m\n\u001b[0;31m    sudo conda install -c conda-forge wordcloud=1.2.1\u001b[0m\n\u001b[0m             ^\u001b[0m\n\u001b[0;31mSyntaxError\u001b[0m\u001b[0;31m:\u001b[0m invalid syntax\n"
     ]
    }
   ],
   "source": [
    "# conda install -c conda-forge wordcloud=1.2.1"
   ]
  },
  {
   "cell_type": "code",
   "execution_count": null,
   "metadata": {},
   "outputs": [],
   "source": [
    "data = pd.read_csv(\"Tweets_source_data.csv\")"
   ]
  },
  {
   "cell_type": "code",
   "execution_count": null,
   "metadata": {},
   "outputs": [],
   "source": [
    "data"
   ]
  },
  {
   "cell_type": "markdown",
   "metadata": {},
   "source": [
    "# first model"
   ]
  },
  {
   "cell_type": "code",
   "execution_count": null,
   "metadata": {},
   "outputs": [],
   "source": [
    "# https://www.kaggle.com/maniche04/sentiment-analysis-scikit"
   ]
  },
  {
   "cell_type": "code",
   "execution_count": null,
   "metadata": {},
   "outputs": [],
   "source": [
    "airwords = ['airline','air','plane','flight']\n",
    "airlines = data['airline']\n",
    "\n",
    "stop = stopwords.words('english')\n"
   ]
  },
  {
   "cell_type": "code",
   "execution_count": null,
   "metadata": {},
   "outputs": [],
   "source": [
    "def preprocessor(text):\n",
    "    words = text.split()\n",
    "    del words[0]\n",
    "    words = [re.sub('[^0-9a-zA-Z]+', '', w.replace('#','').lower()) for w in words if not w.startswith('http') and not w.startswith('@')]\n",
    "    finalwords = [w for w in words if (not w.isdigit() and w not in airwords and w not in airlines)]\n",
    "    return ' '.join(finalwords)"
   ]
  },
  {
   "cell_type": "code",
   "execution_count": null,
   "metadata": {},
   "outputs": [],
   "source": [
    "#print(data.head(3))\n",
    "data = data.loc[:14000,['text','airline_sentiment']]\n",
    "data['text'] = data['text'].apply(preprocessor)\n",
    "\n",
    "print(preprocessor(\"This is a tweet flight 979 and i'm happy #flight #travel @maniche04\"))\n"
   ]
  },
  {
   "cell_type": "code",
   "execution_count": null,
   "metadata": {},
   "outputs": [],
   "source": [
    "test_data = data[4200:]\n",
    "train_data = data[:9800]\n",
    "\n",
    "print(train_data['text'][91:120])\n",
    "#print(test_data['text'])"
   ]
  },
  {
   "cell_type": "code",
   "execution_count": null,
   "metadata": {},
   "outputs": [],
   "source": [
    "# extracting the feature list\n",
    "from sklearn.feature_extraction.text import CountVectorizer\n",
    "#count = CountVectorizer(ngram_range=(1,2))\n",
    "#bag = count.fit_transform(s for s in data.loc[:,'text'])\n",
    "#print(count.vocabulary_)\n",
    "\n",
    "# tranforming the feature list\n",
    "from sklearn.feature_extraction.text import TfidfTransformer\n",
    "#tf_transformer = tf_transformer.fit_transform(bag)\n",
    "\n",
    "# training\n",
    "from sklearn.naive_bayes import MultinomialNB\n",
    "#clf = MultinomialNB().fit(bag,data['airline_sentiment'])\n",
    "\n",
    "# implement pipeline\n",
    "from sklearn.pipeline import Pipeline\n",
    "text_clf = Pipeline([('vect',CountVectorizer(ngram_range=(4,5))),('tfidf',TfidfTransformer()),('clf',MultinomialNB())])\n",
    "text_clf = text_clf.fit(train_data['text'],train_data['airline_sentiment'])\n",
    "\n",
    "print('Test Accuracy: %.3f' % text_clf.score(test_data['text'], test_data['airline_sentiment']))"
   ]
  },
  {
   "cell_type": "markdown",
   "metadata": {},
   "source": [
    "# 2nd model"
   ]
  },
  {
   "cell_type": "code",
   "execution_count": null,
   "metadata": {},
   "outputs": [],
   "source": [
    "# Check the ratio of positive and negative tweets for each airline\n",
    "data = pd.read_csv(\"Tweets_source_data.csv\")\n",
    "\n",
    "data['countval']=1\n",
    "groupby_object=data[['airline','airline_sentiment','countval']].groupby(['airline','airline_sentiment']).aggregate(sum)\n",
    "groupby_object.unstack(level=1).plot(kind='bar')\n",
    "plt.show()\n"
   ]
  },
  {
   "cell_type": "code",
   "execution_count": null,
   "metadata": {},
   "outputs": [],
   "source": [
    "from sklearn.feature_extraction.text import TfidfVectorizer\n",
    "\n",
    "#####\n",
    "data['text']=data['text'].map(lambda x: re.sub(\"^@[^\\s]+\\s\",\"\",x))\n",
    "def getHashtag(x):\n",
    "\tg=re.match(\"^[^#]+#([^\\s]+).*\",x)\n",
    "\tif g:\n",
    "\t\treturn g.group(1)\n",
    "\telse:\n",
    "\t\treturn \"\"\n",
    "\t\n",
    "data['hashtags']=data['text'].map(getHashtag)\n",
    "# Convert to lower case\n",
    "data['hashtags']=data['hashtags'].str.lower() \n",
    "\n",
    "from nltk.corpus import stopwords\n",
    "def review_to_words( raw_review ):\n",
    "    # Function to convert a raw review to a string of words\n",
    "    # The input is a single string (a raw movie review), and \n",
    "    # the output is a single string (a preprocessed movie review)\n",
    "    #\n",
    "    # 1. Remove HTML\n",
    "    review_text = raw_review\n",
    "    #\n",
    "    # 2. Remove non-letters        \n",
    "    letters_only = re.sub(\"[^a-zA-Z]\", \" \", review_text) \n",
    "    #\n",
    "    # 3. Convert to lower case, split into individual words\n",
    "    words = letters_only.lower().split()                             \n",
    "    #\n",
    "    # 4. In Python, searching a set is much faster than searching\n",
    "    #   a list, so convert the stop words to a set\n",
    "    stops = set(stopwords.words(\"english\"))                  \n",
    "    # \n",
    "    # 5. Remove stop words\n",
    "    meaningful_words = [w for w in words if not w in stops]   \n",
    "    #\n",
    "    # 6. Join the words back into one string separated by space, \n",
    "    # and return the result.\n",
    "    return( \" \".join( meaningful_words ))   \n",
    "\n",
    "Reviews=[]\n",
    "dataPos=data[data['airline_sentiment']=='positive']\n",
    "for i in range(0, len(dataPos)):\n",
    "    Reviews.append(review_to_words(dataPos['text'].tolist()[i]))\n",
    "\n",
    "vect = TfidfVectorizer(sublinear_tf=True, max_df=0.5, analyzer='word',stop_words='english')\n",
    "vect.fit(Reviews)\n",
    "idf = vect._tfidf.idf_\n",
    "wordDict=dict(zip(vect.get_feature_names(), idf))"
   ]
  },
  {
   "cell_type": "code",
   "execution_count": null,
   "metadata": {},
   "outputs": [],
   "source": [
    "word1={k: v for k, v in wordDict.items() if v < 4}\n",
    "from wordcloud import WordCloud\n",
    "wordcloud = WordCloud().generate(' '.join(word1.keys()))\n",
    "plt.title('POSITIVE : TFID FREQ < 4')\n",
    "plt.imshow(wordcloud)"
   ]
  },
  {
   "cell_type": "code",
   "execution_count": null,
   "metadata": {},
   "outputs": [],
   "source": []
  }
 ],
 "metadata": {
  "kernelspec": {
   "display_name": "Python 3",
   "language": "python",
   "name": "python3"
  },
  "language_info": {
   "codemirror_mode": {
    "name": "ipython",
    "version": 3
   },
   "file_extension": ".py",
   "mimetype": "text/x-python",
   "name": "python",
   "nbconvert_exporter": "python",
   "pygments_lexer": "ipython3",
   "version": "3.7.3"
  }
 },
 "nbformat": 4,
 "nbformat_minor": 2
}
